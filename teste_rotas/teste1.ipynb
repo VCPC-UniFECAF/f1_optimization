{
 "cells": [
  {
   "cell_type": "code",
   "execution_count": 7,
   "id": "5d7411bc",
   "metadata": {},
   "outputs": [
    {
     "name": "stdout",
     "output_type": "stream",
     "text": [
      "\n",
      "trajetoria1 (19 pontos)\n",
      "  x = 520.0, y = 500.0\n",
      "  x = 519.5, y = 489.5\n",
      "  x = 518.2, y = 479.2\n",
      "  x = 515.9, y = 468.9\n",
      "  x = 512.8, y = 459.0\n",
      "\n",
      "trajetoria2 (19 pontos)\n",
      "  x = 560.0, y = 500.0\n",
      "  x = 559.4, y = 486.1\n",
      "  x = 557.6, y = 472.2\n",
      "  x = 554.5, y = 458.6\n",
      "  x = 550.4, y = 445.3\n",
      "\n",
      "trajetoria3 (19 pontos)\n",
      "  x = 580.0, y = 500.0\n",
      "  x = 579.3, y = 484.3\n",
      "  x = 577.3, y = 468.7\n",
      "  x = 573.9, y = 453.4\n",
      "  x = 569.1, y = 438.4\n"
     ]
    }
   ],
   "source": [
    "import json\n",
    "\n",
    "with open (\"trajetorias.json\") as f:\n",
    "    trajetorias = json.load(f)\n",
    "\n",
    "for nome, pontos in trajetorias.items():\n",
    "    print(f\"\\n{nome} ({len (pontos)} pontos)\")\n",
    "    for p  in pontos[:5]: \n",
    "        print(f\"  x = {p[0]:.1f}, y = {p[1]:.1f}\")"
   ]
  }
 ],
 "metadata": {
  "kernelspec": {
   "display_name": "Python 3",
   "language": "python",
   "name": "python3"
  },
  "language_info": {
   "codemirror_mode": {
    "name": "ipython",
    "version": 3
   },
   "file_extension": ".py",
   "mimetype": "text/x-python",
   "name": "python",
   "nbconvert_exporter": "python",
   "pygments_lexer": "ipython3",
   "version": "3.12.3"
  }
 },
 "nbformat": 4,
 "nbformat_minor": 5
}

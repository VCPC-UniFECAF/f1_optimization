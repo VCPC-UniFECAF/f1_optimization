version https://git-lfs.github.com/spec/v1
oid sha256:c9434bfab61cf5a9977e20acc72d33f72584a22fa89bb460f2ed8afc8e3d4c66
size 9244

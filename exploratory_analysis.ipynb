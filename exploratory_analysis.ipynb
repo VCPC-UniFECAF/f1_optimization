{
 "cells": [
  {
   "cell_type": "markdown",
   "metadata": {},
   "source": [
    "### Importar Bibliotecas"
   ]
  },
  {
   "cell_type": "code",
   "execution_count": 2,
   "metadata": {},
   "outputs": [],
   "source": [
    "import sqlite3\n",
    "import pandas as pd"
   ]
  },
  {
   "cell_type": "markdown",
   "metadata": {},
   "source": [
    "### Criar Função para consultar o DB"
   ]
  },
  {
   "cell_type": "code",
   "execution_count": 3,
   "metadata": {},
   "outputs": [],
   "source": [
    "db_file = 'f1db/f1db.db'\n",
    "\n",
    "def query_data(query):\n",
    "    try:\n",
    "        # Conectar ao banco de dados\n",
    "        conn = sqlite3.connect(db_file)\n",
    "        \n",
    "        # Se nenhuma query for fornecida, selecionar todos os dados da tabela\n",
    "        if query is None:\n",
    "            query = f\"SELECT * FROM driver\"\n",
    "        \n",
    "        # Executar a consulta e criar o DataFrame\n",
    "        df = pd.read_sql_query(query, conn)\n",
    "        \n",
    "        return df\n",
    "    \n",
    "    except sqlite3.Error as e:\n",
    "        print(f\"Erro ao acessar o banco de dados SQLite: {e}\")\n",
    "        return None\n",
    "    \n",
    "    finally:\n",
    "        # Fechar a conexão\n",
    "        if 'conn' in locals():\n",
    "            conn.close()\n",
    "        "
   ]
  },
  {
   "cell_type": "markdown",
   "metadata": {},
   "source": [
    "### Queries"
   ]
  },
  {
   "cell_type": "code",
   "execution_count": 4,
   "metadata": {},
   "outputs": [],
   "source": [
    "# Deixei duas queries de exemplo, pra entenderem como faz pra buscar os dados no banco, pra criar outra query é só copiar esse modelo e depois chamar a fução lá em baixo \n",
    "\n",
    "top_10_drivers_by_wins = '''\n",
    "SELECT \n",
    "    name, \n",
    "    total_race_wins \n",
    "FROM driver\n",
    "ORDER BY total_race_wins DESC\n",
    "LIMIT 10\n",
    "'''\n",
    "\n",
    "top_10_circuits_by_length = '''\n",
    "SELECT\n",
    "    full_name,\n",
    "    length\n",
    "FROM circuit\n",
    "ORDER BY length DESC\n",
    "LIMIT 10\n",
    "'''\n"
   ]
  },
  {
   "cell_type": "markdown",
   "metadata": {},
   "source": [
    "### Top Drivers"
   ]
  },
  {
   "cell_type": "code",
   "execution_count": 5,
   "metadata": {},
   "outputs": [
    {
     "data": {
      "text/html": [
       "<div>\n",
       "<style scoped>\n",
       "    .dataframe tbody tr th:only-of-type {\n",
       "        vertical-align: middle;\n",
       "    }\n",
       "\n",
       "    .dataframe tbody tr th {\n",
       "        vertical-align: top;\n",
       "    }\n",
       "\n",
       "    .dataframe thead th {\n",
       "        text-align: right;\n",
       "    }\n",
       "</style>\n",
       "<table border=\"1\" class=\"dataframe\">\n",
       "  <thead>\n",
       "    <tr style=\"text-align: right;\">\n",
       "      <th></th>\n",
       "      <th>name</th>\n",
       "      <th>total_race_wins</th>\n",
       "    </tr>\n",
       "  </thead>\n",
       "  <tbody>\n",
       "    <tr>\n",
       "      <th>0</th>\n",
       "      <td>Lewis Hamilton</td>\n",
       "      <td>105</td>\n",
       "    </tr>\n",
       "    <tr>\n",
       "      <th>1</th>\n",
       "      <td>Michael Schumacher</td>\n",
       "      <td>91</td>\n",
       "    </tr>\n",
       "    <tr>\n",
       "      <th>2</th>\n",
       "      <td>Max Verstappen</td>\n",
       "      <td>64</td>\n",
       "    </tr>\n",
       "    <tr>\n",
       "      <th>3</th>\n",
       "      <td>Sebastian Vettel</td>\n",
       "      <td>53</td>\n",
       "    </tr>\n",
       "    <tr>\n",
       "      <th>4</th>\n",
       "      <td>Alain Prost</td>\n",
       "      <td>51</td>\n",
       "    </tr>\n",
       "    <tr>\n",
       "      <th>5</th>\n",
       "      <td>Ayrton Senna</td>\n",
       "      <td>41</td>\n",
       "    </tr>\n",
       "    <tr>\n",
       "      <th>6</th>\n",
       "      <td>Fernando Alonso</td>\n",
       "      <td>32</td>\n",
       "    </tr>\n",
       "    <tr>\n",
       "      <th>7</th>\n",
       "      <td>Nigel Mansell</td>\n",
       "      <td>31</td>\n",
       "    </tr>\n",
       "    <tr>\n",
       "      <th>8</th>\n",
       "      <td>Jackie Stewart</td>\n",
       "      <td>27</td>\n",
       "    </tr>\n",
       "    <tr>\n",
       "      <th>9</th>\n",
       "      <td>Jim Clark</td>\n",
       "      <td>25</td>\n",
       "    </tr>\n",
       "  </tbody>\n",
       "</table>\n",
       "</div>"
      ],
      "text/plain": [
       "                 name  total_race_wins\n",
       "0      Lewis Hamilton              105\n",
       "1  Michael Schumacher               91\n",
       "2      Max Verstappen               64\n",
       "3    Sebastian Vettel               53\n",
       "4         Alain Prost               51\n",
       "5        Ayrton Senna               41\n",
       "6     Fernando Alonso               32\n",
       "7       Nigel Mansell               31\n",
       "8      Jackie Stewart               27\n",
       "9           Jim Clark               25"
      ]
     },
     "execution_count": 5,
     "metadata": {},
     "output_type": "execute_result"
    }
   ],
   "source": [
    "# se quiser salvar em dataframe, é só usar assim\n",
    "df = query_data(top_10_drivers_by_wins)\n",
    "df"
   ]
  },
  {
   "cell_type": "markdown",
   "metadata": {},
   "source": [
    "### Longest Circuits"
   ]
  },
  {
   "cell_type": "code",
   "execution_count": 6,
   "metadata": {},
   "outputs": [
    {
     "data": {
      "text/html": [
       "<div>\n",
       "<style scoped>\n",
       "    .dataframe tbody tr th:only-of-type {\n",
       "        vertical-align: middle;\n",
       "    }\n",
       "\n",
       "    .dataframe tbody tr th {\n",
       "        vertical-align: top;\n",
       "    }\n",
       "\n",
       "    .dataframe thead th {\n",
       "        text-align: right;\n",
       "    }\n",
       "</style>\n",
       "<table border=\"1\" class=\"dataframe\">\n",
       "  <thead>\n",
       "    <tr style=\"text-align: right;\">\n",
       "      <th></th>\n",
       "      <th>full_name</th>\n",
       "      <th>length</th>\n",
       "    </tr>\n",
       "  </thead>\n",
       "  <tbody>\n",
       "    <tr>\n",
       "      <th>0</th>\n",
       "      <td>Pescara Circuit</td>\n",
       "      <td>25.579</td>\n",
       "    </tr>\n",
       "    <tr>\n",
       "      <th>1</th>\n",
       "      <td>Sebring International Raceway</td>\n",
       "      <td>8.360</td>\n",
       "    </tr>\n",
       "    <tr>\n",
       "      <th>2</th>\n",
       "      <td>Reims-Gueux</td>\n",
       "      <td>8.302</td>\n",
       "    </tr>\n",
       "    <tr>\n",
       "      <th>3</th>\n",
       "      <td>AVUS</td>\n",
       "      <td>8.300</td>\n",
       "    </tr>\n",
       "    <tr>\n",
       "      <th>4</th>\n",
       "      <td>Charade Circuit</td>\n",
       "      <td>8.055</td>\n",
       "    </tr>\n",
       "    <tr>\n",
       "      <th>5</th>\n",
       "      <td>Ain-Diab Circuit</td>\n",
       "      <td>7.618</td>\n",
       "    </tr>\n",
       "    <tr>\n",
       "      <th>6</th>\n",
       "      <td>Circuito da Boavista</td>\n",
       "      <td>7.406</td>\n",
       "    </tr>\n",
       "    <tr>\n",
       "      <th>7</th>\n",
       "      <td>Circuit Bremgarten</td>\n",
       "      <td>7.280</td>\n",
       "    </tr>\n",
       "    <tr>\n",
       "      <th>8</th>\n",
       "      <td>Circuit de Spa-Francorchamps</td>\n",
       "      <td>7.004</td>\n",
       "    </tr>\n",
       "    <tr>\n",
       "      <th>9</th>\n",
       "      <td>Rouen-Les-Essarts</td>\n",
       "      <td>6.542</td>\n",
       "    </tr>\n",
       "  </tbody>\n",
       "</table>\n",
       "</div>"
      ],
      "text/plain": [
       "                       full_name  length\n",
       "0                Pescara Circuit  25.579\n",
       "1  Sebring International Raceway   8.360\n",
       "2                    Reims-Gueux   8.302\n",
       "3                           AVUS   8.300\n",
       "4                Charade Circuit   8.055\n",
       "5               Ain-Diab Circuit   7.618\n",
       "6           Circuito da Boavista   7.406\n",
       "7             Circuit Bremgarten   7.280\n",
       "8   Circuit de Spa-Francorchamps   7.004\n",
       "9              Rouen-Les-Essarts   6.542"
      ]
     },
     "execution_count": 6,
     "metadata": {},
     "output_type": "execute_result"
    }
   ],
   "source": [
    "# mas se quiser só ver o resultado da query, pode usar assim\n",
    "query_data(top_10_circuits_by_length)"
   ]
  }
 ],
 "metadata": {
  "kernelspec": {
   "display_name": "Python 3",
   "language": "python",
   "name": "python3"
  },
  "language_info": {
   "codemirror_mode": {
    "name": "ipython",
    "version": 3
   },
   "file_extension": ".py",
   "mimetype": "text/x-python",
   "name": "python",
   "nbconvert_exporter": "python",
   "pygments_lexer": "ipython3",
   "version": "3.12.3"
  }
 },
 "nbformat": 4,
 "nbformat_minor": 2
}
